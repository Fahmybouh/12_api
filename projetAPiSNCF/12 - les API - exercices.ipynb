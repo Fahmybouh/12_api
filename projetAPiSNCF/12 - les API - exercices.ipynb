{
 "cells": [
  {
   "cell_type": "markdown",
   "metadata": {},
   "source": [
    "<b> But de l'exerice </b>\n",
    "\n",
    "L'objectif est d'apprendre à utiliser l'API restcountries, qui permet d'obtenir des données sur tous les Pays du monde. <br>\n",
    "\n",
    "1) Faites une lecture rapide de la documentation de l'API : https://restcountries.eu/ <br>\n",
    "2) Via requests.get et .content, tester le bon fonctionnement de l'API en requetant https://restcountries.eu/rest/v2/all. Récupérez vous bien des données ? Quel est code réponse de l'API ? <br>\n",
    "3) Enregistrer le contenu de l'API dans la variable data. reformater data au format json grace à json.loads <br>\n",
    "4) Créer un tableau pandas appelé dataSet, à partir de data et la fonction json_normalize. Visualisez les données. <br>\n",
    "5) il y a beaucoup trop de données...nous allons simplifier cela. Refaire de même process d'appel mais cette fois avec cette API : https://restcountries.eu/rest/v2/alpha?codes=FRA . Il ne doit maintenir y avoir qu'une seul ligne correspondant aux infos sur la France<br>\n",
    "6) Mettre l'information 'code' dans les paramètre d'appel de l'API (params=..) puis le supprimer de l'URL. <br>\n",
    "7) Nous allons construire une fonction permettant d'obtenir une information précise sur un pays. <br>\n",
    "le comportement attendue est le suivant : la fonction infoPays('FRA','capital') devra retourner 'Paris' <br>\n",
    "7-1) Déclarer la fonction infoPays qui prendra 2 paramètres : 'code', correspondant au code du pays et 'info' correspondant au contenu de la colonne à retourner (capital, monnaie...) <br>\n",
    "7-2) placer dans la fonction l'appel à l'API réalisé à l'étape 6. la variable 'code' de l'api prendra la valeur du paramètre 'code' de la fonction infoPays <br>\n",
    "7-3) Toujours dans la fonction créer ensuite la variable 'info' qui recupera la valeur de la colonne correspondant au paramètre 'info' de la fonction <br>\n",
    "7-4) la fonction doit retourner la variable info en guise de réponse. <br>\n",
    "8) quel est la capitale (capital) du bangladesh (BGD) ? <br>\n",
    "9) quelle est la monnaie (currencies) de la Turquie(TUR) ? "
   ]
  }
 ],
 "metadata": {
  "kernelspec": {
   "display_name": "Python 3",
   "language": "python",
   "name": "python3"
  },
  "language_info": {
   "codemirror_mode": {
    "name": "ipython",
    "version": 3
   },
   "file_extension": ".py",
   "mimetype": "text/x-python",
   "name": "python",
   "nbconvert_exporter": "python",
   "pygments_lexer": "ipython3",
   "version": "3.6.2"
  }
 },
 "nbformat": 4,
 "nbformat_minor": 2
}
